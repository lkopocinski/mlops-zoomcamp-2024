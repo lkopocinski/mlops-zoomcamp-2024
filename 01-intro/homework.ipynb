{
 "cells": [
  {
   "cell_type": "markdown",
   "metadata": {},
   "source": [
    "# mlops-zoomcamp 01-intro"
   ]
  },
  {
   "cell_type": "code",
   "execution_count": 1,
   "metadata": {},
   "outputs": [],
   "source": [
    "import pandas as pd"
   ]
  },
  {
   "cell_type": "code",
   "execution_count": 2,
   "metadata": {},
   "outputs": [],
   "source": [
    "from sklearn.feature_extraction import DictVectorizer\n",
    "from sklearn.linear_model import LinearRegression\n",
    "from sklearn.metrics import root_mean_squared_error"
   ]
  },
  {
   "cell_type": "code",
   "execution_count": 3,
   "metadata": {},
   "outputs": [],
   "source": [
    "def read_trip_data(month: str, converters: dict) -> pd.DataFrame:\n",
    "    data_url = f\"https://d37ci6vzurychx.cloudfront.net/trip-data/yellow_tripdata_2023-{month}.parquet\"\n",
    "    df = pd.read_parquet(data_url).astype(converters)       \n",
    "    return df"
   ]
  },
  {
   "cell_type": "code",
   "execution_count": 4,
   "metadata": {},
   "outputs": [],
   "source": [
    "MINUTE_IN_SEC = 60\n",
    "\n",
    "def compute_duration(df: pd.DataFrame) -> pd.DataFrame:\n",
    "    df['duration'] = (df['tpep_dropoff_datetime'] - df['tpep_pickup_datetime'])\n",
    "    df['duration'] = df['duration'].dt.total_seconds().div(MINUTE_IN_SEC)\n",
    "    return df"
   ]
  },
  {
   "cell_type": "code",
   "execution_count": 5,
   "metadata": {},
   "outputs": [],
   "source": [
    "MIN_DURATION_MIN = 1\n",
    "MAX_DURATION_MIN = 60\n",
    "\n",
    "def drop_outlayers(df: pd.DataFrame) -> pd.DataFrame:\n",
    "    return df.loc[(df['duration'] >= MIN_DURATION_MIN) & (df['duration'] <= MAX_DURATION_MIN)]"
   ]
  },
  {
   "cell_type": "code",
   "execution_count": 6,
   "metadata": {},
   "outputs": [],
   "source": [
    "def preprocess(df: pd.DataFrame, verbose=False):\n",
    "    df = compute_duration(df)\n",
    "    \n",
    "    if verbose:\n",
    "        print(f\"Q2 - The standard deviation of the trips duration is {df['duration'].std():.2f} .\")\n",
    "\n",
    "    before_drop = len(df)\n",
    "    df = drop_outlayers(df)\n",
    "    after_drop = len(df)\n",
    "    \n",
    "    if verbose:\n",
    "        print(f\"Q3 - {((after_drop / before_drop) * 100):.2f} % of the records left after droping the outliers.\")\n",
    "\n",
    "    return df"
   ]
  },
  {
   "cell_type": "code",
   "execution_count": 7,
   "metadata": {},
   "outputs": [],
   "source": [
    "target_column = 'duration'\n",
    "feature_columns = ['PULocationID',\t'DOLocationID']\n",
    "feature_columns_converter = {column: str for column in feature_columns}"
   ]
  },
  {
   "cell_type": "code",
   "execution_count": 8,
   "metadata": {},
   "outputs": [
    {
     "name": "stdout",
     "output_type": "stream",
     "text": [
      "Q1 - There are 19 columns for January data.\n"
     ]
    }
   ],
   "source": [
    "df_january_raw = read_trip_data(month=\"01\", converters=feature_columns_converter)\n",
    "df_february_raw = read_trip_data(month=\"02\", converters=feature_columns_converter)\n",
    "\n",
    "print(f\"Q1 - There are {len(df_january_raw.columns)} columns for January data.\")"
   ]
  },
  {
   "cell_type": "code",
   "execution_count": 9,
   "metadata": {},
   "outputs": [
    {
     "name": "stdout",
     "output_type": "stream",
     "text": [
      "Q2 - The standard deviation of the trips duration is 42.59 .\n",
      "Q3 - 98.12 % of the records left after droping the outliers.\n"
     ]
    }
   ],
   "source": [
    "df_train = preprocess(df_january_raw, verbose=True)\n",
    "df_val = preprocess(df_february_raw, verbose=False)"
   ]
  },
  {
   "cell_type": "code",
   "execution_count": 10,
   "metadata": {},
   "outputs": [
    {
     "name": "stdout",
     "output_type": "stream",
     "text": [
      "Q4 - The dimensionality of this matrix is (3009173, 515) with 515 number of columns.\n"
     ]
    }
   ],
   "source": [
    "dv = DictVectorizer()\n",
    "\n",
    "# train\n",
    "train_dicts = df_train[feature_columns].to_dict(orient='records')\n",
    "X_train = dv.fit_transform(train_dicts)\n",
    "y_train = df_train[target_column].values\n",
    "\n",
    "print(f\"Q4 - The dimensionality of this matrix is {X_train.shape} with {X_train.shape[1]} number of columns.\")\n",
    "\n",
    "# validation\n",
    "val_dicts = df_val[feature_columns].to_dict(orient='records')\n",
    "X_val = dv.transform(val_dicts)\n",
    "y_val = df_val[target_column].values"
   ]
  },
  {
   "cell_type": "code",
   "execution_count": 11,
   "metadata": {},
   "outputs": [
    {
     "name": "stdout",
     "output_type": "stream",
     "text": [
      "Q5 - The RMSE of a training set: 7.64926.\n",
      "Q6 - The RMSE of a validation set: 7.81182.\n"
     ]
    }
   ],
   "source": [
    "lr = LinearRegression()\n",
    "\n",
    "# train\n",
    "lr.fit(X_train, y_train)\n",
    "y_train_pred = lr.predict(X_train)\n",
    "\n",
    "rmse_train = root_mean_squared_error(y_train, y_train_pred)\n",
    "print(f\"Q5 - The RMSE of a training set: {rmse_train:.5f}.\")\n",
    "\n",
    "\n",
    "# validation\n",
    "y_val_pred = lr.predict(X_val)\n",
    "\n",
    "rmse_val = root_mean_squared_error(y_val, y_val_pred)\n",
    "print(f\"Q6 - The RMSE of a validation set: {rmse_val:.5f}.\")"
   ]
  }
 ],
 "metadata": {
  "kernelspec": {
   "display_name": "mlops-zoomcamp-2024",
   "language": "python",
   "name": "mlops-zoomcamp-2024"
  },
  "language_info": {
   "codemirror_mode": {
    "name": "ipython",
    "version": 3
   },
   "file_extension": ".py",
   "mimetype": "text/x-python",
   "name": "python",
   "nbconvert_exporter": "python",
   "pygments_lexer": "ipython3",
   "version": "3.12.3"
  }
 },
 "nbformat": 4,
 "nbformat_minor": 2
}
